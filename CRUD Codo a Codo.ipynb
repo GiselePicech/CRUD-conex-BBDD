{
 "cells": [
  {
   "cell_type": "code",
   "execution_count": 1,
   "id": "bd122576",
   "metadata": {},
   "outputs": [],
   "source": [
    "from tkinter import *\n",
    "import sqlite3 as sq3 #Va a necesitar traer esta libreria a nuestro programa\n",
    "from asyncio.windows_events import NULL # Nos permite trabajar con la BBDD y registros NULL\n",
    "from tkinter import messagebox"
   ]
  },
  {
   "cell_type": "code",
   "execution_count": 2,
   "id": "9b26ff60",
   "metadata": {},
   "outputs": [],
   "source": [
    "'''\n",
    "========================\n",
    "        FUNCIONAL\n",
    "========================\n",
    "'''\n",
    "\n",
    "#Conexion a la base de datos\n",
    "def conectar():\n",
    "    global con\n",
    "    global cur\n",
    "    con = sq3.connect(\"mi_db.db\") #creara la base de datos\n",
    "    cur = con.cursor() #Cadete virtual nos traer y lleva los datos de y hacia la db\n",
    "    messagebox.showinfo(\"STATUS\",\"Conectando a la BBDD!\")\n",
    "    #nuevafuncionconexion()\n",
    "    \n",
    "    #SQL para crear la tabla escuela\n",
    "    instruct1= '''CREATE TABLE IF NOT EXISTS escuelas (\n",
    "    _id INTEGER PRIMARY KEY AUTOINCREMENT,  \n",
    "    nombre varchar(45) DEFAULT NULL,\n",
    "    localidad varchar(45) DEFAULT NULL,\n",
    "    provincia varchar(45) DEFAULT NULL,\n",
    "    capacidad INTEGER DEFAULT NULL)'''\n",
    "    \n",
    "    #SQL para crear la tabla alumnos \n",
    "    instruct2= '''CREATE TABLE  IF NOT EXISTS alumnos (\n",
    "    _id INTEGER PRIMARY KEY AUTOINCREMENT,\n",
    "    id_escuela INTEGER DEFAULT NULL,\n",
    "    legajo INTEGER DEFAULT NULL,\n",
    "    nombre varchar(45) DEFAULT NULL,\n",
    "    nota decimal(10,0) DEFAULT NULL,\n",
    "    grado INTEGER DEFAULT NULL,\n",
    "    email varchar(45) NOT NULL,\n",
    "    FOREIGN KEY (id_escuela) REFERENCES escuelas(id))'''\n",
    "    \n",
    "    cur.execute(instruct1)#ejecutara la creacion de escuelas\n",
    "    cur.execute(instruct2)#ejecutara la creacion de alumnos\n",
    "    \n",
    "    #DATOS PARA LAS TABLAS\n",
    "    lista1=[(1,'Normal 1','Quilmes','Buenos Aires',250),(2,'Gral. San Martín','San Salvador','Jujuy',100),(3,'Belgrano','Belgrano','Córdoba',150),(4,'EET Nro 2','Avellaneda','Buenos Aires',500),(5,'Esc. N° 2 Tomás Santa coloma','Capital Federal','Buenos Aires',250)]\n",
    "    lista2=[(1,2,1000,'Ramón Mesa',8,1,'rmesa@mail.com'),(2,2,1002,'Tomás Smith',8,1,''),(4,1,101,'Juan Perez',10,3,''),(5,1,105,'Pedro González',9,3,''),(6,5,190,'Roberto Luis Sánchez',8,3,'robertoluissanchez@gmail.com'),(7,2,106,'Martín Bossio',NULL,3,''),(8,4,100,'Paula Remmi',3,1,'mail@mail.com'),(9,4,1234,'Pedro Gómez',6,2,'')]\n",
    "\n",
    "    #Estructura de control, que nos evitara errores\n",
    "    try:\n",
    "        #Por ejemplo esta se va a ejecutar 5 veces, una por cada escuela\n",
    "        cur.executemany(\"INSERT INTO escuelas VALUES (?,?,?,?,?)\",lista1)\n",
    "        #Por ejemplo esta se va a ejecutar 9 veces, una por cada alumno\n",
    "        cur.executemany(\"INSERT INTO alumnos VALUES (?,?,?,?,?,?,?)\",lista2)\n",
    "    except:\n",
    "        print(\"Posiblemente estos valores ya existen en la Base de Datos\")\n",
    "    \n",
    "    con.commit()#se encarga de que los cambios en la base de datos se guarden"
   ]
  },
  {
   "cell_type": "code",
   "execution_count": 3,
   "id": "72132355",
   "metadata": {},
   "outputs": [],
   "source": [
    "#DATOS PARA LAS TABLAS\n",
    "lista1=[(1,'Normal 1','Quilmes','Buenos Aires',250),(2,'Gral. San Martín','San Salvador','Jujuy',100),(3,'Belgrano','Belgrano','Córdoba',150),(4,'EET Nro 2','Avellaneda','Buenos Aires',500),(5,'Esc. N° 2 Tomás Santa coloma','Capital Federal','Buenos Aires',250)]\n",
    "lista2=[(1,2,1000,'Ramón Mesa',8,1,'rmesa@mail.com'),(2,2,1002,'Tomás Smith',8,1,''),(4,1,101,'Juan Perez',10,3,''),(5,1,105,'Pedro González',9,3,''),(6,5,190,'Roberto Luis Sánchez',8,3,'robertoluissanchez@gmail.com'),(7,2,106,'Martín Bossio',NULL,3,''),(8,4,100,'Paula Remmi',3,1,'mail@mail.com'),(9,4,1234,'Pedro Gómez',6,2,'')]"
   ]
  },
  {
   "cell_type": "code",
   "execution_count": 4,
   "id": "7d47b21e",
   "metadata": {},
   "outputs": [],
   "source": [
    "#Salir\n",
    "def salir():\n",
    "    respuesta= messagebox.askquestion(\"CONFIRMACION\",\"Esta seguro que quiere salir?\")\n",
    "    if respuesta == \"yes\":\n",
    "        try:#intenta lo siguiente\n",
    "            con.close()\n",
    "        except:#si falla lo anterior hace lo siguiente\n",
    "            pass\n",
    "        raiz.destroy()"
   ]
  },
  {
   "cell_type": "code",
   "execution_count": 5,
   "id": "fa039220",
   "metadata": {},
   "outputs": [],
   "source": [
    "#Limpiar\n",
    "def limpiar():\n",
    "    legajo.set(\"\")\n",
    "    alumnos.set(\"\")\n",
    "    email.set(\"\")\n",
    "    calificacion.set(\"0.0\")\n",
    "    escuela.set(\"Seleccione\")\n",
    "    localidad.set(\"\")\n",
    "    provincia.set(\"\")\n",
    "    legajo_input.config(state=\"normal\")"
   ]
  },
  {
   "cell_type": "code",
   "execution_count": 6,
   "id": "d8a51b52",
   "metadata": {},
   "outputs": [],
   "source": [
    "#Licencia\n",
    "def licencia():\n",
    "    mensaje='''\n",
    "                GNU GENERAL PUBLIC LICENSE\n",
    "                CRUD PYTHON Version 1, November 2022\n",
    "                Copyright (C) 2022 Codo a Codo 4.0 , Inc.\n",
    "                Everyone is permitted to copy and distribute verbatim copies\n",
    "                of this license document, but changing it is not allowed.\n",
    "                \n",
    "                aca pones tu licencia\n",
    "\n",
    "        '''\n",
    "    messagebox.showinfo(\"LICENCIA\",mensaje)"
   ]
  },
  {
   "cell_type": "code",
   "execution_count": 7,
   "id": "095f42f4",
   "metadata": {},
   "outputs": [],
   "source": [
    "#Sobre la app\n",
    "def sobre_app():\n",
    "    messagebox.showinfo(\"ACERCA DE...\", \"Creado por la comision 22622 \\n para Codo a Codo 4.0 - Big Data \\n 2022\")       "
   ]
  },
  {
   "cell_type": "code",
   "execution_count": 8,
   "id": "e6718422",
   "metadata": {},
   "outputs": [],
   "source": [
    "#Leer\n",
    "def leer():\n",
    "    query='''SELECT alumnos.legajo, alumnos.nombre, alumnos.nota, alumnos.email, escuelas.nombre, escuelas.localidad, escuelas.provincia\n",
    "        FROM alumnos INNER JOIN escuelas \n",
    "        ON alumnos.id_escuela = escuelas._id \n",
    "        WHERE alumnos.legajo=\n",
    "        '''\n",
    "    cur.execute(query+legajo.get())\n",
    "    resultado=cur.fetchall()\n",
    "    if resultado == []:\n",
    "        messagebox.showerror(\"ERROR\", \"Este legajo no existe\")\n",
    "    else:\n",
    "        legajo.set(resultado[0][0])\n",
    "        alumnos.set(resultado[0][1])\n",
    "        calificacion.set(resultado[0][2])\n",
    "        email.set(resultado[0][3])\n",
    "        escuela.set(resultado[0][4])\n",
    "        localidad.set(resultado[0][5])\n",
    "        provincia.set(resultado[0][6])\n",
    "        legajo_input.config(state=\"disabled\")"
   ]
  },
  {
   "cell_type": "code",
   "execution_count": 9,
   "id": "32932d88",
   "metadata": {},
   "outputs": [],
   "source": [
    "#FNCIONES AUXILIARES\n",
    "def buscar_escuelas(intencion):\n",
    "        conectar()\n",
    "        con =sq3.connect(\"mi_db.db\")\n",
    "        cur =con.cursor()\n",
    "        if intencion:# solo se va a ejecutar si intencion == True\n",
    "                cur.execute(\"SELECT _id, localidad, provincia FROM escuelas WHERE nombre=?\",(escuela.get(),))\n",
    "        else:\n",
    "                cur.execute(\"SELECT nombre FROM escuelas\")\n",
    "        resultado = cur.fetchall()#asi tenemos una lita\n",
    "        escuelas=[]\n",
    "        for escuela_elemnto in resultado:\n",
    "                if intencion:\n",
    "                        provincia.set(escuela_elemnto[2])\n",
    "                        localidad.set(escuela_elemnto[1])  \n",
    "                escuelas.append(escuela_elemnto[0])\n",
    "        con.close()\n",
    "        return escuelas"
   ]
  },
  {
   "cell_type": "code",
   "execution_count": 10,
   "id": "6bae7b60",
   "metadata": {},
   "outputs": [],
   "source": [
    "#BUscar provincia y localidad x escuela selecccionada\n",
    "def localizar_escuela(event):\n",
    "        conectar()\n",
    "        con =sq3.connect(\"mi_db.db\")\n",
    "        cur =con.cursor()        \n",
    "        cur.execute(\"SELECT localidad, provincia FROM escuelas WHERE nombre =?\",(escuela.get(),))\n",
    "        resultado= cur.fetchall()\n",
    "        provincia.set(resultado[0][1])                \n",
    "        localidad.set(resultado[0][0])"
   ]
  },
  {
   "cell_type": "code",
   "execution_count": 11,
   "id": "3fcc848a",
   "metadata": {},
   "outputs": [],
   "source": [
    "#CREAR LEGAJO\n",
    "def crear():\n",
    "        id_escuela=buscar_escuelas(True)\n",
    "        id_escuela=int(id_escuela[0])\n",
    "        datos= id_escuela, legajo.get(), alumnos.get(), calificacion.get(), email.get()\n",
    "        cur.execute(\"INSERT INTO alumnos (id_escuela,legajo,nombre,nota, email) VALUES(?,?,?,?,?)\",datos)\n",
    "        con.commit()\n",
    "        messagebox.showinfo(\"STATUS\", \"Registro agregado.\")\n",
    "        limpiar()"
   ]
  },
  {
   "cell_type": "code",
   "execution_count": 12,
   "id": "c606a44a",
   "metadata": {},
   "outputs": [],
   "source": [
    "def eliminar():\n",
    "    respuesta=messagebox.askquestion(\"CONFIRMACION\",\"Esta seguro que quiere eliminar el registro?\")\n",
    "    if respuesta == \"yes\":\n",
    "            nro_legajo=legajo.get()\n",
    "            cur.execute(\"DELETE FROM alumnos WHERE legajo=\"+ nro_legajo)\n",
    "            con.commit()\n",
    "            limpiar()"
   ]
  },
  {
   "cell_type": "code",
   "execution_count": 13,
   "id": "b7b10fad",
   "metadata": {},
   "outputs": [],
   "source": [
    "def actualizar():\n",
    "    id_escuela=int(buscar_escuelas(TRUE)[0])#conseguimos el id_escuela\n",
    "    datos= id_escuela , alumnos.get(), calificacion.get(), email.get()\n",
    "    cur.execute(\"UPDATE alumnos SET id_escuela=?, nombre=?, nota=?, email=?\", datos)\n",
    "    con.commit()\n",
    "    messagebox.showinfo(\"STATUS\", \"Registro actualizado.\")\n",
    "    limpiar()"
   ]
  },
  {
   "cell_type": "code",
   "execution_count": 14,
   "id": "788e5736",
   "metadata": {},
   "outputs": [],
   "source": [
    "'''\n",
    "========================\n",
    "    INTERFAZ GRÁFICA\n",
    "========================\n",
    "'''\n",
    "raiz = Tk() #Nombe de nuestra ventana principal, objeto de la clase Tk\n",
    "raiz.title(\"Python CRUD - Comisión 22622\")\n",
    "\n",
    "barramenu = Menu(raiz) #barramenu es un onjeto de la clase Menu que se ubicara en raiz\n",
    "raiz.config(menu = barramenu)#Con este renglon asignamos a el objeto raiz el objeto menu, pero esta vacio\n"
   ]
  },
  {
   "cell_type": "code",
   "execution_count": 15,
   "id": "2ab394b8",
   "metadata": {},
   "outputs": [],
   "source": [
    "#Menú BBDD\n",
    "bbddmenu = Menu (barramenu , tearoff = 0) # Lo ubicar en barramenu\n",
    "bbddmenu.add_command(label=\"Conectar\", command=conectar) #agrega otra opcion al objeto barramenu\n",
    "bbddmenu.add_command(label=\"Listado de alumnos\")\n",
    "bbddmenu.add_command(label=\"Salir\", command=salir)\n",
    "barramenu.add_cascade(label=\"BBDD\", menu= bbddmenu)"
   ]
  },
  {
   "cell_type": "code",
   "execution_count": 16,
   "id": "3e7aadcc",
   "metadata": {},
   "outputs": [],
   "source": [
    "#Menu Limpiar\n",
    "limpiarmenu = Menu(barramenu, tearoff=0)\n",
    "limpiarmenu.add_command(label=\"Limpiar Campos\", command=limpiar)\n",
    "barramenu.add_cascade(label=\"Limpiar\", menu= limpiarmenu)"
   ]
  },
  {
   "cell_type": "code",
   "execution_count": 17,
   "id": "0a6c8ac3",
   "metadata": {},
   "outputs": [],
   "source": [
    "#Menu Acerca de\n",
    "acercamenu = Menu(barramenu, tearoff=0)\n",
    "acercamenu.add_command(label=\"Licencia\", command=licencia)\n",
    "acercamenu.add_command(label=\"Sobre la app\", command=sobre_app)\n",
    "barramenu.add_cascade(label=\"Acerca de\", menu=acercamenu)"
   ]
  },
  {
   "cell_type": "code",
   "execution_count": 18,
   "id": "818b8c04",
   "metadata": {},
   "outputs": [],
   "source": [
    "#FrameCampos\n",
    "framecampos = Frame(raiz)\n",
    "framecampos.pack() #si no le pasas argumentos, lo que hace pack es \"a groso modo\" ubica este objeto debajo del objeto anterior"
   ]
  },
  {
   "cell_type": "code",
   "execution_count": 19,
   "id": "1e41751e",
   "metadata": {},
   "outputs": [
    {
     "data": {
      "text/plain": [
       "'\\nIntVar() #declara variable de tipo entero\\nDoubleVar()#declara variable de tipo flotante\\nStringVar()#declara variable de tipo texto\\nBooleanVar()#declara variable de tipo booleano\\n'"
      ]
     },
     "execution_count": 19,
     "metadata": {},
     "output_type": "execute_result"
    }
   ],
   "source": [
    "#Creamos las variables para guardar los datos de los entrys\n",
    "#no son clases de python, son de tkinter\n",
    "legajo = StringVar()\n",
    "alumnos = StringVar()\n",
    "email = StringVar()\n",
    "escuela = StringVar()\n",
    "calificacion = DoubleVar() # Numero con decimales\n",
    "localidad=StringVar()\n",
    "provincia =StringVar()\n",
    "\n",
    "    \n",
    "'''\n",
    "IntVar() #declara variable de tipo entero\n",
    "DoubleVar()#declara variable de tipo flotante\n",
    "StringVar()#declara variable de tipo texto\n",
    "BooleanVar()#declara variable de tipo booleano\n",
    "'''"
   ]
  },
  {
   "cell_type": "code",
   "execution_count": 20,
   "id": "1eca4736",
   "metadata": {},
   "outputs": [
    {
     "name": "stdout",
     "output_type": "stream",
     "text": [
      "Posiblemente estos valores ya existen en la Base de Datos\n"
     ]
    }
   ],
   "source": [
    "#Usar el metodo grid() para el posicionamiento dentro de framecampos\n",
    "legajo_input= Entry(framecampos, textvariable=legajo)\n",
    "legajo_input.grid(row=0, column=1, padx=10, pady=10)\n",
    "\n",
    "alumnos_input= Entry(framecampos, textvariable=alumnos)\n",
    "alumnos_input.grid(row=1, column=1, padx=10, pady=10)\n",
    "\n",
    "email_input= Entry(framecampos, textvariable=email)\n",
    "email_input.grid(row=2, column=1, padx=10, pady=10)\n",
    "\n",
    "calificacion_input= Entry(framecampos, textvariable=calificacion)\n",
    "calificacion_input.grid(row=3, column=1, padx=10, pady=10)\n",
    "#framecampos, escuela, *schools, command = localizar_escuela\n",
    "#escuela_input= Entry(framecampos, textvariable=escuela)\n",
    "\n",
    "schools=buscar_escuelas(False)\n",
    "escuela.set(\"Seleccione\")\n",
    "escuela_input = OptionMenu(framecampos, escuela, *schools , command=localizar_escuela)\n",
    "escuela_input.grid(row=4, column=1, padx=10, pady=10)\n",
    "\n",
    "localidad_input= Entry(framecampos, textvariable=localidad)\n",
    "localidad_input.grid(row=5, column=1, padx=10, pady=10)\n",
    "\n",
    "provincia_input= Entry(framecampos, textvariable=provincia)\n",
    "provincia_input.grid(row=6, column=1, padx=10, pady=10)"
   ]
  },
  {
   "cell_type": "code",
   "execution_count": 21,
   "id": "82d323ef",
   "metadata": {},
   "outputs": [
    {
     "data": {
      "text/plain": [
       "'\\nSticky\\n        n\\n    nw      ne\\nw               e\\n    sw      se\\n        s\\n'"
      ]
     },
     "execution_count": 21,
     "metadata": {},
     "output_type": "execute_result"
    }
   ],
   "source": [
    "#seccion Labels\n",
    "legajolabel= Label(framecampos, text=\"Legajo\")\n",
    "legajolabel.grid(row=0, column=0, padx=10, pady=10, sticky=\"w\")\n",
    "\n",
    "alumnoslabel= Label(framecampos, text=\"Alumnos\")\n",
    "alumnoslabel.grid(row=1, column=0, padx=10, pady=10 , sticky=\"w\")\n",
    "\n",
    "emaillabel= Label(framecampos, text=\"Email\")\n",
    "emaillabel.grid(row=2, column=0, padx=10, pady=10 , sticky=\"w\")\n",
    "\n",
    "calificacionlabel= Label(framecampos, text=\"Calificación\")\n",
    "calificacionlabel.grid(row=3, column=0, padx=10, pady=10 , sticky=\"w\")\n",
    "\n",
    "escuelalabel= Label(framecampos, text=\"Escuela\")\n",
    "escuelalabel.grid(row=4, column=0, padx=10, pady=10 , sticky=\"w\")\n",
    "\n",
    "localidadlabel= Label(framecampos, text=\"Localidad\")\n",
    "localidadlabel.grid(row=5, column=0, padx=10, pady=10 , sticky=\"w\")\n",
    "\n",
    "provincialabel= Label(framecampos, text=\"Provincia\")\n",
    "provincialabel.grid(row=6, column=0, padx=10, pady=10, sticky=\"w\")\n",
    "\n",
    "'''\n",
    "Sticky\n",
    "        n\n",
    "    nw      ne\n",
    "w               e\n",
    "    sw      se\n",
    "        s\n",
    "'''\n"
   ]
  },
  {
   "cell_type": "code",
   "execution_count": 22,
   "id": "b8abc80d",
   "metadata": {},
   "outputs": [],
   "source": [
    "#framebotones\n",
    "framebotones = Frame(raiz)\n",
    "framebotones.pack()\n",
    "\n",
    "#Crear\n",
    "boton_crear = Button(framebotones,text=\"Crear\", command=crear)\n",
    "boton_crear.grid(row=0, column=0, pady=10 )\n",
    "\n",
    "#leer\n",
    "boton_leer = Button(framebotones,text=\"Leer\",command=leer)\n",
    "boton_leer.grid(row=0, column=1,  pady=10 )\n",
    "\n",
    "#actualizar\n",
    "boton_actualizar = Button(framebotones,text=\"Actualizar\", command=actualizar)\n",
    "boton_actualizar.grid(row=0, column=2,   pady=10 )\n",
    "\n",
    "#borrar\n",
    "boton_borrar = Button(framebotones,text=\"Borrar\", command=eliminar)\n",
    "boton_borrar.config(bg=\"navy\",fg=\"white\")\n",
    "boton_borrar.grid(row=0, column=3, pady=10 )"
   ]
  },
  {
   "cell_type": "code",
   "execution_count": 23,
   "id": "8d984fb3",
   "metadata": {},
   "outputs": [],
   "source": [
    "#framecopy\n",
    "framecopy = Frame(raiz)\n",
    "framecopy.pack()"
   ]
  },
  {
   "cell_type": "code",
   "execution_count": 24,
   "id": "71249904",
   "metadata": {},
   "outputs": [],
   "source": [
    "copylabel= Label(framecopy, text=\"2022 copyright C22622\")\n",
    "copylabel.grid(row=0, column=0)"
   ]
  },
  {
   "cell_type": "code",
   "execution_count": 25,
   "id": "63691741",
   "metadata": {},
   "outputs": [
    {
     "name": "stdout",
     "output_type": "stream",
     "text": [
      "Posiblemente estos valores ya existen en la Base de Datos\n",
      "Posiblemente estos valores ya existen en la Base de Datos\n"
     ]
    }
   ],
   "source": [
    "raiz.mainloop() #No cierre la ventana cuando termine el programa, que la cierre el usuario"
   ]
  }
 ],
 "metadata": {
  "kernelspec": {
   "display_name": "Python 3 (ipykernel)",
   "language": "python",
   "name": "python3"
  },
  "language_info": {
   "codemirror_mode": {
    "name": "ipython",
    "version": 3
   },
   "file_extension": ".py",
   "mimetype": "text/x-python",
   "name": "python",
   "nbconvert_exporter": "python",
   "pygments_lexer": "ipython3",
   "version": "3.9.12"
  }
 },
 "nbformat": 4,
 "nbformat_minor": 5
}
